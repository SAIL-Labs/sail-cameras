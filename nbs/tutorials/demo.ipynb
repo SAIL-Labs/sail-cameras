{
 "cells": [
  {
   "cell_type": "markdown",
   "id": "4092d909-03c8-4ccb-be7a-55a786c29a72",
   "metadata": {},
   "source": [
    ":::{.callout-warning}\n",
    "\n",
    "This tutorial is a work in progress.\n",
    "\n",
    ":::"
   ]
  }
 ],
 "metadata": {
  "kernelspec": {
   "display_name": "python3",
   "language": "python",
   "name": "python3"
  }
 },
 "nbformat": 4,
 "nbformat_minor": 5
}
