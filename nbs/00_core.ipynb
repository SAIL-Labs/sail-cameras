{
 "cells": [
  {
   "cell_type": "code",
   "execution_count": null,
   "metadata": {},
   "outputs": [],
   "source": [
    "%load_ext autoreload\n",
    "%autoreload 2"
   ]
  },
  {
   "cell_type": "markdown",
   "metadata": {},
   "source": [
    "# BaseCameraInterface\n",
    "\n",
    "> A uniform, backend-agnostic contract for any camera driver in your photonics lab software. By subclassing the abstract base class, you can swap in different SDKs (FliSdk, Flir/spinaker, or even a test stub) without changing your acquisition pipeline."
   ]
  },
  {
   "cell_type": "code",
   "execution_count": null,
   "metadata": {},
   "outputs": [],
   "source": [
    "#| default_exp BaseCameraInterface"
   ]
  },
  {
   "cell_type": "markdown",
   "metadata": {},
   "source": [
    "## Purpose\n",
    "\n",
    "This module provides:\n",
    "\n",
    "- A **uniform API** across all supported camera hardware.\n",
    "- **SOLID** design principles to promote single-responsibility, extensibility, and decoupling.\n",
    "- **Type safety** through Python type hints.\n",
    "- **Easy testing** via dependency injection and mockability.\n",
    "\n",
    "---"
   ]
  },
  {
   "cell_type": "markdown",
   "metadata": {},
   "source": [
    "## Key Interface: `CameraInterface`\n",
    "\n",
    "`CameraInterface` is an abstract base class defining the essential operations expected from any camera implementation.\n",
    "\n",
    "### Core Lifecycle Methods\n",
    "\n",
    "| Method                | Description                                                               |\n",
    "|-----------------------|---------------------------------------------------------------------------|\n",
    "| `__init__(**kwargs)` | Sets up camera SDK, applies configuration, and prepares for acquisition. |\n",
    "| `start_capture()`     | Begins image acquisition or live streaming.                              |\n",
    "| `stop_capture()`      | Halts image acquisition or live streaming.                               |\n",
    "| `get_image(wait=True)`| Retrieves the latest frame, optionally blocking until a new one is ready.|\n",
    "| `close()`             | Releases hardware resources and shuts down the camera safely.            |\n",
    "\n",
    "---\n",
    "\n",
    "### Camera Settings as Properties\n",
    "\n",
    "Common camera parameters are exposed as Python properties, allowing both reading and writing through a uniform interface:\n",
    "\n",
    "| Property     | Type   | Description                          |\n",
    "|--------------|--------|--------------------------------------|\n",
    "| `exposure`   | float  | Camera exposure time (in seconds).   |\n",
    "| `framerate`  | float  | Frame rate (in frames per second).   |\n",
    "| `gain`       | float  | Sensor analog gain.                  |\n",
    "\n",
    "These properties standardize hardware parameter control across heterogeneous devices.\n",
    "\n",
    "---\n",
    "\n",
    "### Dark Frame Management\n",
    "\n",
    "`CameraInterface` includes methods for managing dark-frame capture and reuse:\n",
    "\n",
    "| Method                        | Description                                                                 |\n",
    "|-------------------------------|-----------------------------------------------------------------------------|\n",
    "| `take_dark(frames, save_path)`| Captures and averages multiple frames to generate a dark frame.             |\n",
    "| `load_dark(file)`             | Loads a previously saved dark frame from disk for subtraction or QA.       |\n",
    "\n",
    "This is particularly useful for calibration routines and background subtraction workflows.\n",
    "\n",
    "---"
   ]
  },
  {
   "cell_type": "markdown",
   "metadata": {},
   "source": [
    "## Design Considerations\n",
    "\n",
    "- **Interface Enforcement**: All camera drivers must adhere to the same method/property interface, enabling interchangeability without modification to upstream systems.\n",
    "- **Extensibility**: New camera types can be integrated by subclassing `CameraInterface` and implementing the required methods.\n",
    "- **Mockability for Testing**: By abstracting away hardware-specific logic, the interface enables injection of mocks and stubs in test environments.\n",
    "- **Consistency**: Centralized documentation and type annotations help enforce clarity and uniformity across all implementations.\n",
    "\n",
    "---"
   ]
  },
  {
   "cell_type": "markdown",
   "metadata": {},
   "source": [
    "## Intended Usage\n",
    "\n",
    "The module is meant to be subclassed by hardware-specific drivers. This approach enables higher-level tools (e.g. data acquisition scripts, GUIs, or analysis pipelines) to remain agnostic to the underlying camera backend.\n",
    "\n",
    "For a practical implementation, refer to concrete subclasses such as `FliCamera`, which adapts the interface to the FliSdk hardware.\n",
    "\n",
    "---"
   ]
  },
  {
   "cell_type": "code",
   "execution_count": null,
   "metadata": {},
   "outputs": [],
   "source": [
    "#| hide\n",
    "from nbdev.showdoc import *"
   ]
  },
  {
   "cell_type": "code",
   "execution_count": null,
   "metadata": {},
   "outputs": [],
   "source": [
    "#| export\n",
    "#| hide\n",
    "\n",
    "# bring forth **kwargs from an inherited class for documentation\n",
    "from fastcore.meta import delegates\n",
    "from fastcore.foundation import patch\n",
    "\n",
    "from abc import ABC, abstractmethod\n",
    "from pathlib import Path\n",
    "from typing import Any, Optional, Tuple, Union\n",
    "import numpy as np"
   ]
  },
  {
   "cell_type": "code",
   "execution_count": null,
   "metadata": {},
   "outputs": [],
   "source": [
    "#| exporti BaseCameraInterface\n",
    "\n",
    "@delegates()\n",
    "class BaseCameraInterface(ABC):\n",
    "    \"\"\"\n",
    "    Abstract camera interface defining standard operations\n",
    "    for different camera backends,  with\n",
    "    context-manager support for Python’s `with` statement.\n",
    "    \"\"\"\n",
    "\n",
    "    def __init__(self,       \n",
    "                 camera_index=0,\n",
    "                 camera_id=None,\n",
    "                 verbose=False,\n",
    "                 cam_settings=None,\n",
    "                 cropdims=None,\n",
    "                 darkpath=\"./\",\n",
    "                 darkfile=None,\n",
    "                 **kwargs):\n",
    "        \"\"\"\n",
    "        Initialise the camera with given parameters.\n",
    "        \"\"\"\n",
    "        ...\n",
    "    \n",
    "    def __enter__(self) -> \"CameraInterface\":\n",
    "        \"\"\"\n",
    "        Enter the runtime context related to this object.\n",
    "        Automatically starts capture upon entering.\n",
    "        \"\"\"\n",
    "        return self\n",
    "    \n",
    "    def __exit__(\n",
    "        self,\n",
    "        exc_type: Optional[type],\n",
    "        exc_value: Optional[BaseException],\n",
    "        traceback: Optional[Any]\n",
    "    ) -> None:\n",
    "        \"\"\"\n",
    "        Exit the runtime context and clean up.\n",
    "        Automatically stops capture and closes the camera.\n",
    "        \"\"\"\n",
    "        try:\n",
    "            self.stop_capture()\n",
    "        finally:\n",
    "            self.close()\n",
    "    \n",
    "        \n",
    "    @abstractmethod\n",
    "    def start_capture(self) -> None:\n",
    "        \"\"\"\n",
    "        Begin image acquisition or live stream.\n",
    "        \"\"\"\n",
    "        ...\n",
    "    \n",
    "    \n",
    "    @abstractmethod\n",
    "    def stop_capture(self) -> None:\n",
    "        \"\"\"\n",
    "        Halt image acquisition or live stream.\n",
    "        \"\"\"\n",
    "        ...\n",
    "    \n",
    "    @property\n",
    "    @abstractmethod\n",
    "    def exposure(self) -> float:\n",
    "        \"\"\"Get or set the camera exposure time in seconds.\"\"\"\n",
    "        ...\n",
    "    \n",
    "    @exposure.setter\n",
    "    @abstractmethod\n",
    "    def exposure(self, value: float) -> None:\n",
    "        ...\n",
    "    \n",
    "    @property\n",
    "    @abstractmethod\n",
    "    def framerate(self) -> float:\n",
    "        \"\"\"Get or set the camera frame rate in frames per second.\"\"\"\n",
    "        ...\n",
    "    \n",
    "    \n",
    "    @framerate.setter\n",
    "    @abstractmethod\n",
    "    def framerate(self, value: float) -> None:\n",
    "        ...\n",
    "    \n",
    "    @property\n",
    "    @abstractmethod\n",
    "    def gain(self) -> float:\n",
    "        \"\"\"Get or set the camera gain (e.g., sensor analog gain).\"\"\"\n",
    "        ...\n",
    "    \n",
    "    @gain.setter\n",
    "    @abstractmethod\n",
    "    def gain(self, value: float) -> None:\n",
    "        ...\n",
    "    \n",
    "    @abstractmethod\n",
    "    def get_image(\n",
    "        self,\n",
    "        wait: bool = True\n",
    "    ) -> np.ndarray:\n",
    "        \"\"\"\n",
    "        Retrieve the latest image frame.\n",
    "        :param wait: block until a new frame is available\n",
    "        :return: 2D numpy array representing the image\n",
    "        \"\"\"\n",
    "        ...\n",
    "    \n",
    "    @abstractmethod\n",
    "    def take_dark(self, frames: int = 100, save_path: Optional[Path] = None) -> np.ndarray:\n",
    "        \"\"\"\n",
    "        Acquire a dark frame by averaging multiple captures.\n",
    "        :param frames: number of frames to average\n",
    "        :param save_path: optional file path to save the dark frame\n",
    "        :return: dark frame array\n",
    "        \"\"\"\n",
    "        ...\n",
    "    \n",
    "    @abstractmethod\n",
    "    def load_dark(self, file: Union[str, Path]) -> None:\n",
    "        \"\"\"\n",
    "        Load a previously saved dark frame from disk.\n",
    "        \"\"\"\n",
    "        ...\n",
    "    \n",
    "    @abstractmethod\n",
    "    def close(self) -> None:\n",
    "        \"\"\"\n",
    "        Release all resources and shut down the camera.\n",
    "        \"\"\"\n",
    "        ..."
   ]
  },
  {
   "cell_type": "code",
   "execution_count": null,
   "metadata": {},
   "outputs": [
    {
     "data": {
      "text/markdown": [
       "---\n",
       "\n",
       "[source](https://github.com/SAIL-Labs/sail-cameras/blob/main/sail_cameras/BaseCameraInterface.py#L63){target=\"_blank\" style=\"float:right; font-size:smaller\"}\n",
       "\n",
       "### BaseCameraInterface.start_capture\n",
       "\n",
       ">      BaseCameraInterface.start_capture ()\n",
       "\n",
       "*Begin image acquisition or live stream.*"
      ],
      "text/plain": [
       "---\n",
       "\n",
       "[source](https://github.com/SAIL-Labs/sail-cameras/blob/main/sail_cameras/BaseCameraInterface.py#L63){target=\"_blank\" style=\"float:right; font-size:smaller\"}\n",
       "\n",
       "### BaseCameraInterface.start_capture\n",
       "\n",
       ">      BaseCameraInterface.start_capture ()\n",
       "\n",
       "*Begin image acquisition or live stream.*"
      ]
     },
     "execution_count": null,
     "metadata": {},
     "output_type": "execute_result"
    }
   ],
   "source": [
    "show_doc(BaseCameraInterface.start_capture)"
   ]
  },
  {
   "cell_type": "code",
   "execution_count": null,
   "metadata": {},
   "outputs": [
    {
     "data": {
      "text/markdown": [
       "---\n",
       "\n",
       "[source](https://github.com/SAIL-Labs/sail-cameras/blob/main/sail_cameras/BaseCameraInterface.py#L70){target=\"_blank\" style=\"float:right; font-size:smaller\"}\n",
       "\n",
       "### BaseCameraInterface.stop_capture\n",
       "\n",
       ">      BaseCameraInterface.stop_capture ()\n",
       "\n",
       "*Halt image acquisition or live stream.*"
      ],
      "text/plain": [
       "---\n",
       "\n",
       "[source](https://github.com/SAIL-Labs/sail-cameras/blob/main/sail_cameras/BaseCameraInterface.py#L70){target=\"_blank\" style=\"float:right; font-size:smaller\"}\n",
       "\n",
       "### BaseCameraInterface.stop_capture\n",
       "\n",
       ">      BaseCameraInterface.stop_capture ()\n",
       "\n",
       "*Halt image acquisition or live stream.*"
      ]
     },
     "execution_count": null,
     "metadata": {},
     "output_type": "execute_result"
    }
   ],
   "source": [
    "show_doc(BaseCameraInterface.stop_capture)"
   ]
  },
  {
   "cell_type": "code",
   "execution_count": null,
   "metadata": {},
   "outputs": [
    {
     "data": {
      "text/markdown": [
       "---\n",
       "\n",
       "[source](https://github.com/SAIL-Labs/sail-cameras/blob/main/sail_cameras/BaseCameraInterface.py#L84){target=\"_blank\" style=\"float:right; font-size:smaller\"}\n",
       "\n",
       "### BaseCameraInterface.exposure\n",
       "\n",
       ">      BaseCameraInterface.exposure ()\n",
       "\n",
       "*Get or set the camera exposure time in seconds.*"
      ],
      "text/plain": [
       "---\n",
       "\n",
       "[source](https://github.com/SAIL-Labs/sail-cameras/blob/main/sail_cameras/BaseCameraInterface.py#L84){target=\"_blank\" style=\"float:right; font-size:smaller\"}\n",
       "\n",
       "### BaseCameraInterface.exposure\n",
       "\n",
       ">      BaseCameraInterface.exposure ()\n",
       "\n",
       "*Get or set the camera exposure time in seconds.*"
      ]
     },
     "execution_count": null,
     "metadata": {},
     "output_type": "execute_result"
    }
   ],
   "source": [
    "show_doc(BaseCameraInterface.exposure)"
   ]
  },
  {
   "cell_type": "code",
   "execution_count": null,
   "metadata": {},
   "outputs": [
    {
     "data": {
      "text/markdown": [
       "---\n",
       "\n",
       "[source](https://github.com/SAIL-Labs/sail-cameras/blob/main/sail_cameras/BaseCameraInterface.py#L95){target=\"_blank\" style=\"float:right; font-size:smaller\"}\n",
       "\n",
       "### BaseCameraInterface.framerate\n",
       "\n",
       ">      BaseCameraInterface.framerate ()\n",
       "\n",
       "*Get or set the camera frame rate in frames per second.*"
      ],
      "text/plain": [
       "---\n",
       "\n",
       "[source](https://github.com/SAIL-Labs/sail-cameras/blob/main/sail_cameras/BaseCameraInterface.py#L95){target=\"_blank\" style=\"float:right; font-size:smaller\"}\n",
       "\n",
       "### BaseCameraInterface.framerate\n",
       "\n",
       ">      BaseCameraInterface.framerate ()\n",
       "\n",
       "*Get or set the camera frame rate in frames per second.*"
      ]
     },
     "execution_count": null,
     "metadata": {},
     "output_type": "execute_result"
    }
   ],
   "source": [
    "show_doc(BaseCameraInterface.framerate)"
   ]
  },
  {
   "cell_type": "code",
   "execution_count": null,
   "metadata": {},
   "outputs": [
    {
     "data": {
      "text/markdown": [
       "---\n",
       "\n",
       "[source](https://github.com/SAIL-Labs/sail-cameras/blob/main/sail_cameras/BaseCameraInterface.py#L106){target=\"_blank\" style=\"float:right; font-size:smaller\"}\n",
       "\n",
       "### BaseCameraInterface.gain\n",
       "\n",
       ">      BaseCameraInterface.gain ()\n",
       "\n",
       "*Get or set the camera gain (e.g., sensor analog gain).*"
      ],
      "text/plain": [
       "---\n",
       "\n",
       "[source](https://github.com/SAIL-Labs/sail-cameras/blob/main/sail_cameras/BaseCameraInterface.py#L106){target=\"_blank\" style=\"float:right; font-size:smaller\"}\n",
       "\n",
       "### BaseCameraInterface.gain\n",
       "\n",
       ">      BaseCameraInterface.gain ()\n",
       "\n",
       "*Get or set the camera gain (e.g., sensor analog gain).*"
      ]
     },
     "execution_count": null,
     "metadata": {},
     "output_type": "execute_result"
    }
   ],
   "source": [
    "show_doc(BaseCameraInterface.gain)"
   ]
  },
  {
   "cell_type": "code",
   "execution_count": null,
   "metadata": {},
   "outputs": [
    {
     "data": {
      "text/markdown": [
       "---\n",
       "\n",
       "[source](https://github.com/SAIL-Labs/sail-cameras/blob/main/sail_cameras/BaseCameraInterface.py#L110){target=\"_blank\" style=\"float:right; font-size:smaller\"}\n",
       "\n",
       "### BaseCameraInterface.get_image\n",
       "\n",
       ">      BaseCameraInterface.get_image (wait:bool=True)\n",
       "\n",
       "*Retrieve the latest image frame.\n",
       ":param wait: block until a new frame is available\n",
       ":return: 2D numpy array representing the image*"
      ],
      "text/plain": [
       "---\n",
       "\n",
       "[source](https://github.com/SAIL-Labs/sail-cameras/blob/main/sail_cameras/BaseCameraInterface.py#L110){target=\"_blank\" style=\"float:right; font-size:smaller\"}\n",
       "\n",
       "### BaseCameraInterface.get_image\n",
       "\n",
       ">      BaseCameraInterface.get_image (wait:bool=True)\n",
       "\n",
       "*Retrieve the latest image frame.\n",
       ":param wait: block until a new frame is available\n",
       ":return: 2D numpy array representing the image*"
      ]
     },
     "execution_count": null,
     "metadata": {},
     "output_type": "execute_result"
    }
   ],
   "source": [
    "show_doc(BaseCameraInterface.get_image)"
   ]
  },
  {
   "cell_type": "code",
   "execution_count": null,
   "metadata": {},
   "outputs": [
    {
     "data": {
      "text/markdown": [
       "---\n",
       "\n",
       "[source](https://github.com/SAIL-Labs/sail-cameras/blob/main/sail_cameras/BaseCameraInterface.py#L122){target=\"_blank\" style=\"float:right; font-size:smaller\"}\n",
       "\n",
       "### BaseCameraInterface.take_dark\n",
       "\n",
       ">      BaseCameraInterface.take_dark (frames:int=100,\n",
       ">                                     save_path:Optional[pathlib.Path]=None)\n",
       "\n",
       "*Acquire a dark frame by averaging multiple captures.\n",
       ":param frames: number of frames to average\n",
       ":param save_path: optional file path to save the dark frame\n",
       ":return: dark frame array*"
      ],
      "text/plain": [
       "---\n",
       "\n",
       "[source](https://github.com/SAIL-Labs/sail-cameras/blob/main/sail_cameras/BaseCameraInterface.py#L122){target=\"_blank\" style=\"float:right; font-size:smaller\"}\n",
       "\n",
       "### BaseCameraInterface.take_dark\n",
       "\n",
       ">      BaseCameraInterface.take_dark (frames:int=100,\n",
       ">                                     save_path:Optional[pathlib.Path]=None)\n",
       "\n",
       "*Acquire a dark frame by averaging multiple captures.\n",
       ":param frames: number of frames to average\n",
       ":param save_path: optional file path to save the dark frame\n",
       ":return: dark frame array*"
      ]
     },
     "execution_count": null,
     "metadata": {},
     "output_type": "execute_result"
    }
   ],
   "source": [
    "show_doc(BaseCameraInterface.take_dark)"
   ]
  },
  {
   "cell_type": "code",
   "execution_count": null,
   "metadata": {},
   "outputs": [
    {
     "data": {
      "text/markdown": [
       "---\n",
       "\n",
       "[source](https://github.com/SAIL-Labs/sail-cameras/blob/main/sail_cameras/BaseCameraInterface.py#L132){target=\"_blank\" style=\"float:right; font-size:smaller\"}\n",
       "\n",
       "### BaseCameraInterface.load_dark\n",
       "\n",
       ">      BaseCameraInterface.load_dark (file:Union[str,pathlib.Path])\n",
       "\n",
       "*Load a previously saved dark frame from disk.*"
      ],
      "text/plain": [
       "---\n",
       "\n",
       "[source](https://github.com/SAIL-Labs/sail-cameras/blob/main/sail_cameras/BaseCameraInterface.py#L132){target=\"_blank\" style=\"float:right; font-size:smaller\"}\n",
       "\n",
       "### BaseCameraInterface.load_dark\n",
       "\n",
       ">      BaseCameraInterface.load_dark (file:Union[str,pathlib.Path])\n",
       "\n",
       "*Load a previously saved dark frame from disk.*"
      ]
     },
     "execution_count": null,
     "metadata": {},
     "output_type": "execute_result"
    }
   ],
   "source": [
    "show_doc(BaseCameraInterface.load_dark)"
   ]
  },
  {
   "cell_type": "code",
   "execution_count": null,
   "metadata": {},
   "outputs": [
    {
     "data": {
      "text/markdown": [
       "---\n",
       "\n",
       "[source](https://github.com/SAIL-Labs/sail-cameras/blob/main/sail_cameras/BaseCameraInterface.py#L139){target=\"_blank\" style=\"float:right; font-size:smaller\"}\n",
       "\n",
       "### BaseCameraInterface.close\n",
       "\n",
       ">      BaseCameraInterface.close ()\n",
       "\n",
       "*Release all resources and shut down the camera.*"
      ],
      "text/plain": [
       "---\n",
       "\n",
       "[source](https://github.com/SAIL-Labs/sail-cameras/blob/main/sail_cameras/BaseCameraInterface.py#L139){target=\"_blank\" style=\"float:right; font-size:smaller\"}\n",
       "\n",
       "### BaseCameraInterface.close\n",
       "\n",
       ">      BaseCameraInterface.close ()\n",
       "\n",
       "*Release all resources and shut down the camera.*"
      ]
     },
     "execution_count": null,
     "metadata": {},
     "output_type": "execute_result"
    }
   ],
   "source": [
    "show_doc(BaseCameraInterface.close)"
   ]
  },
  {
   "cell_type": "code",
   "execution_count": null,
   "metadata": {},
   "outputs": [],
   "source": [
    "#| hide\n",
    "import nbdev; nbdev.nbdev_export()"
   ]
  }
 ],
 "metadata": {
  "kernelspec": {
   "display_name": "python3",
   "language": "python",
   "name": "python3"
  }
 },
 "nbformat": 4,
 "nbformat_minor": 4
}
